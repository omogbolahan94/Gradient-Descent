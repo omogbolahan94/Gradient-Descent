{
 "cells": [
  {
   "cell_type": "markdown",
   "id": "66f39039",
   "metadata": {},
   "source": [
    "## Grasdient Descent in Logistic Regression"
   ]
  },
  {
   "cell_type": "code",
   "execution_count": null,
   "id": "b0c25526",
   "metadata": {},
   "outputs": [],
   "source": []
  },
  {
   "cell_type": "markdown",
   "id": "2addd266",
   "metadata": {},
   "source": [
    "### Import Libraries"
   ]
  },
  {
   "cell_type": "code",
   "execution_count": 1,
   "id": "bdde2d86",
   "metadata": {},
   "outputs": [],
   "source": [
    "import numpy as np\n",
    "import pandas as pd\n",
    "import matplotlib.pyplot as plt"
   ]
  },
  {
   "cell_type": "markdown",
   "id": "3a7bf49a",
   "metadata": {},
   "source": [
    "### Import Data"
   ]
  },
  {
   "cell_type": "code",
   "execution_count": 2,
   "id": "8a983bf0",
   "metadata": {},
   "outputs": [],
   "source": [
    "data = pd.read_csv('data.csv', header=None)"
   ]
  },
  {
   "cell_type": "code",
   "execution_count": 3,
   "id": "f8837faf",
   "metadata": {},
   "outputs": [
    {
     "data": {
      "text/html": [
       "<div>\n",
       "<style scoped>\n",
       "    .dataframe tbody tr th:only-of-type {\n",
       "        vertical-align: middle;\n",
       "    }\n",
       "\n",
       "    .dataframe tbody tr th {\n",
       "        vertical-align: top;\n",
       "    }\n",
       "\n",
       "    .dataframe thead th {\n",
       "        text-align: right;\n",
       "    }\n",
       "</style>\n",
       "<table border=\"1\" class=\"dataframe\">\n",
       "  <thead>\n",
       "    <tr style=\"text-align: right;\">\n",
       "      <th></th>\n",
       "      <th>0</th>\n",
       "      <th>1</th>\n",
       "      <th>2</th>\n",
       "    </tr>\n",
       "  </thead>\n",
       "  <tbody>\n",
       "    <tr>\n",
       "      <th>0</th>\n",
       "      <td>0.78051</td>\n",
       "      <td>-0.063669</td>\n",
       "      <td>1</td>\n",
       "    </tr>\n",
       "    <tr>\n",
       "      <th>1</th>\n",
       "      <td>0.28774</td>\n",
       "      <td>0.291390</td>\n",
       "      <td>1</td>\n",
       "    </tr>\n",
       "  </tbody>\n",
       "</table>\n",
       "</div>"
      ],
      "text/plain": [
       "         0         1  2\n",
       "0  0.78051 -0.063669  1\n",
       "1  0.28774  0.291390  1"
      ]
     },
     "execution_count": 3,
     "metadata": {},
     "output_type": "execute_result"
    }
   ],
   "source": [
    "data.head(2)"
   ]
  },
  {
   "cell_type": "code",
   "execution_count": 4,
   "id": "d2fdc41e",
   "metadata": {},
   "outputs": [],
   "source": [
    "data.rename({0: 'x1', 1:'x2', 2:'y'}, axis=1, inplace=True)"
   ]
  },
  {
   "cell_type": "code",
   "execution_count": 5,
   "id": "63a83ec3",
   "metadata": {},
   "outputs": [
    {
     "name": "stdout",
     "output_type": "stream",
     "text": [
      "Size if data: (100, 3)\n"
     ]
    },
    {
     "data": {
      "text/html": [
       "<div>\n",
       "<style scoped>\n",
       "    .dataframe tbody tr th:only-of-type {\n",
       "        vertical-align: middle;\n",
       "    }\n",
       "\n",
       "    .dataframe tbody tr th {\n",
       "        vertical-align: top;\n",
       "    }\n",
       "\n",
       "    .dataframe thead th {\n",
       "        text-align: right;\n",
       "    }\n",
       "</style>\n",
       "<table border=\"1\" class=\"dataframe\">\n",
       "  <thead>\n",
       "    <tr style=\"text-align: right;\">\n",
       "      <th></th>\n",
       "      <th>x1</th>\n",
       "      <th>x2</th>\n",
       "      <th>y</th>\n",
       "    </tr>\n",
       "  </thead>\n",
       "  <tbody>\n",
       "    <tr>\n",
       "      <th>0</th>\n",
       "      <td>0.78051</td>\n",
       "      <td>-0.063669</td>\n",
       "      <td>1</td>\n",
       "    </tr>\n",
       "    <tr>\n",
       "      <th>1</th>\n",
       "      <td>0.28774</td>\n",
       "      <td>0.291390</td>\n",
       "      <td>1</td>\n",
       "    </tr>\n",
       "  </tbody>\n",
       "</table>\n",
       "</div>"
      ],
      "text/plain": [
       "        x1        x2  y\n",
       "0  0.78051 -0.063669  1\n",
       "1  0.28774  0.291390  1"
      ]
     },
     "execution_count": 5,
     "metadata": {},
     "output_type": "execute_result"
    }
   ],
   "source": [
    "print(f\"Size if data: {data.shape}\")\n",
    "data.head(2)"
   ]
  },
  {
   "cell_type": "code",
   "execution_count": 6,
   "id": "eee58c75",
   "metadata": {},
   "outputs": [],
   "source": [
    "# separate the target frpm features\n",
    "X = data.iloc[:, [0, 1]]\n",
    "y = data.iloc[:, 2]"
   ]
  },
  {
   "cell_type": "code",
   "execution_count": 53,
   "id": "7fb7f3d0",
   "metadata": {},
   "outputs": [],
   "source": [
    "# plot functions\n",
    "\n",
    "def plot_points(X, y):\n",
    "    \"\"\"\n",
    "    X: Dataframe\n",
    "    y: Series\n",
    "    \"\"\"\n",
    "    rejected = X.iloc[(y[y == 0].index)]\n",
    "    admitted = X.iloc[(y[y == 1].index)]\n",
    "    \n",
    "    plt.scatter(rejected['x1'], rejected['x2'], color='red', edgecolor = 'k', label='Rejected')\n",
    "    plt.scatter(admitted['x1'], admitted['x2'], color='blue', edgecolor = 'k', label=\"Accepted\")\n",
    "    \n",
    "    plt.legend()\n",
    "    \n",
    "    plt.show()"
   ]
  },
  {
   "cell_type": "code",
   "execution_count": 54,
   "id": "da2678fd",
   "metadata": {},
   "outputs": [
    {
     "data": {
      "image/png": "[encoded data removed]",
      "text/plain": [
       "<Figure size 432x288 with 1 Axes>"
      ]
     },
     "metadata": {
      "needs_background": "light"
     },
     "output_type": "display_data"
    }
   ],
   "source": [
    "plot_points(X, y)"
   ]
  },
  {
   "cell_type": "code",
   "execution_count": 9,
   "id": "beba5730",
   "metadata": {},
   "outputs": [],
   "source": [
    "def display(m, b, color='g--'):\n",
    "    plt.xlim(-0.05,1.05)\n",
    "    plt.ylim(-0.05,1.05)\n",
    "    x = np.arange(-10, 10, 0.1)\n",
    "    plt.plot(x, m*x+b, color)"
   ]
  },
  {
   "cell_type": "markdown",
   "id": "30069fab",
   "metadata": {},
   "source": [
    "### Create the Sigmoid Function"
   ]
  },
  {
   "cell_type": "code",
   "execution_count": 33,
   "id": "ac1bfc01",
   "metadata": {},
   "outputs": [],
   "source": [
    "def sigmoid(x):\n",
    "    \"\"\"\n",
    "    X: result of the summing function\n",
    "    The activation function of the output of the summing function of a Neural Network\n",
    "    \n",
    "    Return (float):\n",
    "        Probalistic value between 0 and 1\n",
    "    \"\"\"\n",
    "    return 1 / (1 + np.exp(-x))"
   ]
  },
  {
   "cell_type": "code",
   "execution_count": 34,
   "id": "82e08627",
   "metadata": {},
   "outputs": [],
   "source": [
    "def output_result(features, weights, bias):\n",
    "    \"\"\"\n",
    "    The summing function of the features, weights and bias of input.\n",
    "    \n",
    "    if there are two features:\n",
    "    \n",
    "    features (array): \n",
    "        1 X 2 array i.e the a single observation\n",
    "        \n",
    "    weight (array): \n",
    "        1 X 2 same size as the x feature\n",
    "        \n",
    "    bias (int): \n",
    "        starting from zero for the first observation\n",
    "    \n",
    "    return (int):\n",
    "        values in the range of 0 and 1\n",
    "    \"\"\"\n",
    "    summing_function = np.dot(features, weights) + bias\n",
    "    return sigmoid(summing_function)"
   ]
  },
  {
   "cell_type": "code",
   "execution_count": 35,
   "id": "dea908ca",
   "metadata": {},
   "outputs": [],
   "source": [
    "def error_function(y, output):\n",
    "    \"\"\"\n",
    "    y: actual value\n",
    "    \n",
    "    output: predicted value. The output of the sigmoid function\n",
    "    \n",
    "    return (int):\n",
    "        values in the range of 0 and 1\n",
    "    \"\"\"\n",
    "    return - y * np.log(output) - (1 - y) * np.log(1 -output)"
   ]
  },
  {
   "cell_type": "code",
   "execution_count": 36,
   "id": "61540269",
   "metadata": {},
   "outputs": [],
   "source": [
    "def update_weights(x, y, weights, bias, learning_rate):\n",
    "    \"\"\"\n",
    "    if there are two features:\n",
    "    \n",
    "    x (array): \n",
    "        1 X 2 array i.e the a single observation\n",
    "        \n",
    "    y (int): \n",
    "        0 or 1 i.e the True value\n",
    "        \n",
    "    weight (array): \n",
    "        1 X 2 same size as the x feature\n",
    "        \n",
    "    bias (int): \n",
    "        starting from zero for the first observation\n",
    "        \n",
    "    returns (tuple):\n",
    "        new weight and bias which will become the input to the next observations\n",
    "    \"\"\"\n",
    "    \n",
    "    output = output_result(x, weights, bias)\n",
    "    d_error = y - output\n",
    "    weights += learnrate * d_error * x\n",
    "    bias += learnrate * d_error\n",
    "    return weights, bias"
   ]
  },
  {
   "cell_type": "code",
   "execution_count": 125,
   "id": "a445d809",
   "metadata": {},
   "outputs": [],
   "source": [
    "np.random.seed(44)\n",
    "\n",
    "epochs = 100\n",
    "learnrate = 0.01\n",
    "\n",
    "def train(features, targets, epochs, learnrate, graph_lines=False):\n",
    "    \n",
    "    errors = []\n",
    "    n_records, n_features = features.shape\n",
    "    last_loss = None\n",
    "    \n",
    "    weights = np.random.normal(scale=1 / n_features**.5, size=n_features)\n",
    "    bias = 0\n",
    "    \n",
    "    for e in range(epochs):\n",
    "        for x, y in zip(np.array(features), np.array(targets)):\n",
    "            weights, bias = update_weights(x, y, weights, bias, learnrate)\n",
    "            \n",
    "        out = output_result(features, weights, bias) \n",
    "        loss = np.mean(error_function(targets, out))\n",
    "        errors.append(loss)\n",
    "        if e % (epochs / 10) == 0:\n",
    "            print(\"\\n========== Epoch\", e,\"==========\")\n",
    "            if last_loss and last_loss < loss:\n",
    "                print(\"Train loss: \", loss, \"  WARNING - Loss Increasing\")\n",
    "            else:\n",
    "                print(\"Train loss: \", loss)\n",
    "            last_loss = loss\n",
    "            predictions = out > 0.5\n",
    "            accuracy = np.mean(predictions == targets)\n",
    "            print(\"Accuracy: \", accuracy)\n",
    "        if graph_lines and e % (epochs / 100) == 0:\n",
    "            display(-weights[0]/weights[1], -bias/weights[1])\n",
    "            \n",
    "\n",
    "    # Plotting the solution boundary\n",
    "    plt.title(\"Solution boundary\")\n",
    "    display(-weights[0]/weights[1], -bias/weights[1], 'black')\n",
    "\n",
    "    # Plotting the data\n",
    "    plot_points(features, targets)\n",
    "    plt.show()\n",
    "\n",
    "    # Plotting the error\n",
    "    plt.title(\"Error Plot\")\n",
    "    plt.xlabel('Number of epochs')\n",
    "    plt.ylabel('Error')\n",
    "    plt.plot(errors)\n",
    "    plt.show()"
   ]
  },
  {
   "cell_type": "markdown",
   "id": "1de356e3",
   "metadata": {},
   "source": [
    "## Time to train the algorithm!\n",
    "When we run the function, we'll obtain the following:\n",
    "- 10 updates with the current training loss and accuracy\n",
    "- A plot of the data and some of the boundary lines obtained. The final one is in black. Notice how the lines get closer and closer to the best fit, as we go through more epochs.\n",
    "- A plot of the error function. Notice how it decreases as we go through more epochs."
   ]
  },
  {
   "cell_type": "code",
   "execution_count": 126,
   "id": "217c4162",
   "metadata": {},
   "outputs": [
    {
     "name": "stdout",
     "output_type": "stream",
     "text": [
      "\n",
      "========== Epoch 0 ==========\n",
      "Train loss:  0.7135845195381634\n",
      "Accuracy:  0.4\n",
      "\n",
      "========== Epoch 10 ==========\n",
      "Train loss:  0.622583521045496\n",
      "Accuracy:  0.59\n",
      "\n",
      "========== Epoch 20 ==========\n",
      "Train loss:  0.5548744083669509\n",
      "Accuracy:  0.74\n",
      "\n",
      "========== Epoch 30 ==========\n",
      "Train loss:  0.5016061418724729\n",
      "Accuracy:  0.84\n",
      "\n",
      "========== Epoch 40 ==========\n",
      "Train loss:  0.45933346418614013\n",
      "Accuracy:  0.86\n",
      "\n",
      "========== Epoch 50 ==========\n",
      "Train loss:  0.42525543433469964\n",
      "Accuracy:  0.93\n",
      "\n",
      "========== Epoch 60 ==========\n",
      "Train loss:  0.3973461571671397\n",
      "Accuracy:  0.93\n",
      "\n",
      "========== Epoch 70 ==========\n",
      "Train loss:  0.3741469765239074\n",
      "Accuracy:  0.93\n",
      "\n",
      "========== Epoch 80 ==========\n",
      "Train loss:  0.35459973368161984\n",
      "Accuracy:  0.94\n",
      "\n",
      "========== Epoch 90 ==========\n",
      "Train loss:  0.337927365887992\n",
      "Accuracy:  0.94\n"
     ]
    },
    {
     "data": {
      "image/png": "[encoded data removed]",
      "text/plain": [
       "<Figure size 432x288 with 1 Axes>"
      ]
     },
     "metadata": {
      "needs_background": "light"
     },
     "output_type": "display_data"
    },
    {
     "data": {
      "image/png": "[encoded data removed]",
      "text/plain": [
       "<Figure size 432x288 with 1 Axes>"
      ]
     },
     "metadata": {
      "needs_background": "light"
     },
     "output_type": "display_data"
    }
   ],
   "source": [
    "train(X, y, epochs, learnrate, True)"
   ]
  },
  {
   "cell_type": "code",
   "execution_count": null,
   "id": "e2a269a0",
   "metadata": {},
   "outputs": [],
   "source": []
  },
  {
   "cell_type": "markdown",
   "id": "c9f8c37d",
   "metadata": {},
   "source": [
    "#### how the first updated weight used for the first epoch is calculated internally"
   ]
  },
  {
   "cell_type": "code",
   "execution_count": 106,
   "id": "c4b85132",
   "metadata": {},
   "outputs": [
    {
     "name": "stdout",
     "output_type": "stream",
     "text": [
      "Values of features in row 1 and target value in row 1 is [ 0.78051  -0.063669] and 1 respectively\n",
      "Initial weights and bias is [ 0.35122995 -0.09776762] and 0 respectively\n"
     ]
    }
   ],
   "source": [
    "np.random.seed(42)\n",
    "\n",
    "row1 = np.array(X.iloc[0,:])\n",
    "y1 = y[0]\n",
    "\n",
    "# initialise a random weight and bias value\n",
    "wts = np.random.normal(scale=1 / len(row1)**.5, size=len(row1))\n",
    "bias = 0\n",
    "\n",
    "print(f\"Values of features in row 1 and target value in row 1 is {row1} and {y1} respectively\")\n",
    "print(f\"Initial weights and bias is {wts} and {bias} respectively\")"
   ]
  },
  {
   "cell_type": "code",
   "execution_count": 107,
   "id": "a808b700",
   "metadata": {},
   "outputs": [
    {
     "data": {
      "text/plain": [
       "6.53172"
      ]
     },
     "execution_count": 107,
     "metadata": {},
     "output_type": "execute_result"
    }
   ],
   "source": [
    "sum_func = np.dot(row1, wt) + b\n",
    "sum_func"
   ]
  },
  {
   "cell_type": "code",
   "execution_count": 108,
   "id": "6568cb13",
   "metadata": {},
   "outputs": [
    {
     "data": {
      "text/plain": [
       "0.9985456197859746"
      ]
     },
     "execution_count": 108,
     "metadata": {},
     "output_type": "execute_result"
    }
   ],
   "source": [
    "# sigmoid of the summing result gives us a probalistic value: values in the range of 0 and 1\n",
    "out1 = sigmoid(sum_func)\n",
    "out1"
   ]
  },
  {
   "cell_type": "code",
   "execution_count": 110,
   "id": "09f85698",
   "metadata": {},
   "outputs": [
    {
     "name": "stdout",
     "output_type": "stream",
     "text": [
      "weights and bias is [ 0.3512413  -0.09776855] and 1.4543802140254414e-05 respectively\n"
     ]
    }
   ],
   "source": [
    "learning_rate = 0.01\n",
    "new_wts = wts + (learning_rate * (y1 - out1) * row1)\n",
    "new_bias = bias + (learning_rate * (y1 - out1))\n",
    "\n",
    "print(f\"weights and bias is {new_wts} and {new_bias} respectively\")"
   ]
  },
  {
   "cell_type": "markdown",
   "id": "d7982008",
   "metadata": {},
   "source": [
    "The weight and bias above will become the weight and bias for the next row. This process repeats until the last row. The updated weight and bias in the last row is then used for the next epoch which in this case is epoch 0 "
   ]
  },
  {
   "cell_type": "markdown",
   "id": "e3d6bb21",
   "metadata": {},
   "source": [
    "#### how the first epoch is caluclated internally"
   ]
  },
  {
   "cell_type": "code",
   "execution_count": 111,
   "id": "8d0b0980",
   "metadata": {},
   "outputs": [
    {
     "data": {
      "text/plain": [
       "array([0.34755143, 0.49342474, 0.45171663, 0.5186606 , 0.46966956,\n",
       "       0.45855984, 0.50359482, 0.47291009, 0.51325806, 0.49379765,\n",
       "       0.50793668, 0.52885502, 0.52538001, 0.48808881, 0.49965603,\n",
       "       0.45372146, 0.44452858, 0.48042636, 0.50616665, 0.50674325,\n",
       "       0.49618038, 0.53266312, 0.49191633, 0.52958974, 0.4431191 ,\n",
       "       0.5720864 , 0.57139423, 0.51073457, 0.43948663, 0.45200035,\n",
       "       0.52390624, 0.42422004, 0.55723212, 0.51699067, 0.50966452,\n",
       "       0.50388415, 0.46592987, 0.51224822, 0.46002976, 0.45538686,\n",
       "       0.49918632, 0.52090464, 0.45390729, 0.53638084, 0.4775703 ,\n",
       "       0.50051984, 0.49532517, 0.53967718, 0.47958582, 0.48111054,\n",
       "       0.59056871, 0.52816354, 0.47553705, 0.55633007, 0.46754528,\n",
       "       0.47278307, 0.52511285, 0.52805205, 0.4701378 , 0.51888451,\n",
       "       0.50996754, 0.50177433, 0.49321555, 0.51874772, 0.46635338,\n",
       "       0.51868413, 0.50886718, 0.51397393, 0.42618945, 0.50581651,\n",
       "       0.55957955, 0.49103905, 0.55751806, 0.50781043, 0.49050093,\n",
       "       0.47771231, 0.46918037, 0.54145954, 0.46554998, 0.52901842,\n",
       "       0.53731769, 0.51763836, 0.51444589, 0.51143374, 0.50015124,\n",
       "       0.50136075, 0.4921866 , 0.54471043, 0.48654403, 0.53544294,\n",
       "       0.56354895, 0.49119316, 0.47827744, 0.55934499, 0.51180858,\n",
       "       0.4967729 , 0.50634052, 0.52529262, 0.51497013, 0.52205694])"
      ]
     },
     "execution_count": 111,
     "metadata": {},
     "output_type": "execute_result"
    }
   ],
   "source": [
    "# the summing function of all the observations of the features have dimension: n_row X 1\n",
    "# the sigmoid function is applied row wise to each element of the result of the summing function \n",
    "# NOTE: we aew using the updated weight and bias from the last row of our data\n",
    "out = output_result(X, [-0.64999754, 0.79766411], -0.07170359960071394)\n",
    "out"
   ]
  },
  {
   "cell_type": "code",
   "execution_count": 112,
   "id": "6fbabd4f",
   "metadata": {},
   "outputs": [
    {
     "data": {
      "text/plain": [
       "0     1.056843\n",
       "1     0.706385\n",
       "2     0.794700\n",
       "3     0.656506\n",
       "4     0.755726\n",
       "        ...   \n",
       "95    0.686714\n",
       "96    0.705909\n",
       "97    0.745057\n",
       "98    0.723545\n",
       "99    0.738264\n",
       "Name: y, Length: 100, dtype: float64"
      ]
     },
     "execution_count": 112,
     "metadata": {},
     "output_type": "execute_result"
    }
   ],
   "source": [
    "# difference between the true value (y) and the predicted value (out)\n",
    "error = - y * np.log(out) - (1 - y) * np.log(1 -out)\n",
    "error"
   ]
  },
  {
   "cell_type": "code",
   "execution_count": 113,
   "id": "fabee56b",
   "metadata": {},
   "outputs": [
    {
     "data": {
      "text/plain": [
       "0.7135845196544931"
      ]
     },
     "execution_count": 113,
     "metadata": {},
     "output_type": "execute_result"
    }
   ],
   "source": [
    "# average error\n",
    "np.mean(error)"
   ]
  },
  {
   "cell_type": "code",
   "execution_count": 136,
   "id": "db49f6d6",
   "metadata": {},
   "outputs": [
    {
     "name": "stdout",
     "output_type": "stream",
     "text": [
      "Accuracy of correct classification: 0.4\n",
      "Accuracy of misclassification: 0.6\n"
     ]
    }
   ],
   "source": [
    "# output returns probabily value of predicting class 1\n",
    "# if p(1) > 0.5, then that value should be predicted as class 1 \n",
    "# else the value should be predicted as class 0\n",
    "# where 0.5 is the threshold probability value for seperating each class\n",
    "\n",
    "prediction = out > 0.5 \n",
    "accuracy = np.mean(prediction == y)\n",
    "\n",
    "print(f\"Accuracy of correct classification: {accuracy}\")\n",
    "\n",
    "print(f\"Accuracy of misclassification: {1 - accuracy}\")"
   ]
  },
  {
   "cell_type": "markdown",
   "id": "179aa883",
   "metadata": {},
   "source": [
    "The error above is large enough and the accuracy is low. The aim is to reduce the error. With more epoch, the error will reduce.\n",
    "\n",
    "The next epoch repeats the process of updating weights and bias again but this time around, we are using the weight and bias of the previous epoch as the initial weight and bias.  \n",
    "\n",
    "Many more epochs helps to increase the number of times we want the model to repeats itself."
   ]
  },
  {
   "cell_type": "code",
   "execution_count": 132,
   "id": "8d915bc6",
   "metadata": {},
   "outputs": [
    {
     "data": {
      "text/plain": [
       "array([ True, False, False,  True,  True, False,  True,  True,  True,\n",
       "        True])"
      ]
     },
     "execution_count": 132,
     "metadata": {},
     "output_type": "execute_result"
    }
   ],
   "source": [
    "prediction[-10:]"
   ]
  },
  {
   "cell_type": "code",
   "execution_count": 133,
   "id": "5fe5655d",
   "metadata": {},
   "outputs": [
    {
     "data": {
      "text/plain": [
       "90    0\n",
       "91    0\n",
       "92    0\n",
       "93    0\n",
       "94    0\n",
       "95    0\n",
       "96    0\n",
       "97    0\n",
       "98    0\n",
       "99    0\n",
       "Name: y, dtype: int64"
      ]
     },
     "execution_count": 133,
     "metadata": {},
     "output_type": "execute_result"
    }
   ],
   "source": [
    "y[-10:]"
   ]
  },
  {
   "cell_type": "code",
   "execution_count": 135,
   "id": "f5a27ffe",
   "metadata": {},
   "outputs": [
    {
     "data": {
      "text/plain": [
       "False"
      ]
     },
     "execution_count": 135,
     "metadata": {},
     "output_type": "execute_result"
    }
   ],
   "source": [
    "True == 0"
   ]
  },
  {
   "cell_type": "code",
   "execution_count": null,
   "id": "35143a3b",
   "metadata": {},
   "outputs": [],
   "source": []
  }
 ],
 "metadata": {
  "kernelspec": {
   "display_name": "Python 3",
   "language": "python",
   "name": "python3"
  },
  "language_info": {
   "codemirror_mode": {
    "name": "ipython",
    "version": 3
   },
   "file_extension": ".py",
   "mimetype": "text/x-python",
   "name": "python",
   "nbconvert_exporter": "python",
   "pygments_lexer": "ipython3",
   "version": "3.8.8"
  }
 },
 "nbformat": 4,
 "nbformat_minor": 5
}
